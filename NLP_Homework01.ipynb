{
 "cells": [
  {
   "cell_type": "code",
   "execution_count": 2,
   "id": "59a5de41-6e31-4b26-9141-541a68c228a1",
   "metadata": {},
   "outputs": [],
   "source": [
    "#NLTK\n",
    "import nltk\n",
    "from nltk.tokenize import sent_tokenize, word_tokenize\n",
    "from nltk import pos_tag, ne_chunk\n",
    "from nltk.tokenize import PunktSentenceTokenizer"
   ]
  },
  {
   "cell_type": "code",
   "execution_count": 3,
   "id": "d737d94e-8509-47e2-9cf4-cf290474d8a2",
   "metadata": {},
   "outputs": [
    {
     "name": "stderr",
     "output_type": "stream",
     "text": [
      "[nltk_data] Downloading package punkt to /Users/anan/nltk_data...\n",
      "[nltk_data]   Package punkt is already up-to-date!\n",
      "[nltk_data] Downloading package punkt_tab to /Users/anan/nltk_data...\n",
      "[nltk_data]   Package punkt_tab is already up-to-date!\n",
      "[nltk_data] Downloading package averaged_perceptron_tagger to\n",
      "[nltk_data]     /Users/anan/nltk_data...\n",
      "[nltk_data]   Package averaged_perceptron_tagger is already up-to-\n",
      "[nltk_data]       date!\n",
      "[nltk_data] Downloading package maxent_ne_chunker to\n",
      "[nltk_data]     /Users/anan/nltk_data...\n",
      "[nltk_data]   Package maxent_ne_chunker is already up-to-date!\n",
      "[nltk_data] Downloading package words to /Users/anan/nltk_data...\n",
      "[nltk_data]   Package words is already up-to-date!\n"
     ]
    },
    {
     "data": {
      "text/plain": [
       "True"
      ]
     },
     "execution_count": 3,
     "metadata": {},
     "output_type": "execute_result"
    }
   ],
   "source": [
    "#Install and import NLTK\n",
    "nltk.download('punkt')\n",
    "nltk.download('punkt_tab')\n",
    "nltk.download('averaged_perceptron_tagger')\n",
    "nltk.download('maxent_ne_chunker')\n",
    "nltk.download('words')"
   ]
  },
  {
   "cell_type": "code",
   "execution_count": 4,
   "id": "17904a2a-770b-4de3-bcf7-979bf009d756",
   "metadata": {},
   "outputs": [],
   "source": [
    "# Loading Dataset\n",
    "with open(\"news article-1.txt\", \"r\", encoding=\"utf-8\") as f:\n",
    "    text = f.read()"
   ]
  },
  {
   "cell_type": "markdown",
   "id": "70f919ad-ce4b-4bbd-b138-3c20014f0c3d",
   "metadata": {},
   "source": [
    "## 1. Detect sentences in the given news article"
   ]
  },
  {
   "cell_type": "code",
   "execution_count": 6,
   "id": "41bc63d0-5698-4b1c-a6c0-21de56427a87",
   "metadata": {},
   "outputs": [
    {
     "name": "stdout",
     "output_type": "stream",
     "text": [
      "Sentences Detected\n",
      "1. Anglo-French Channel Tunnel operator Eurotunnel Monday announced a deal giving its creditor banks 45.5 percent of the company in return for wiping out one billion pounds ($1.56 billion) of its debt.\n",
      "2. The long-awaited restructuring brings to an end months of wrangling between Eurotunnel and the 225 banks to which it owes nearly nine billion pounds ($14.1 billion).\n",
      "3. The deal, announced simultaneously in Paris and London, brings the company back from the brink of insolvency but leaves shareholders owning only 54.5 percent of the company.\n",
      "4. \"The restructuring plan provides Eurotunnel with the medium-term financial stability to allow it to consolidate its substantial commercial achievements to date and to develop its operations,\" Eurotunnel co-chairman Alastair Morton said.\n",
      "5. The firm was now making a profit before interest, he added.\n",
      "6. Although shareholders will see their interests diluted, they were offered the prospect of a brighter future after months of uncertainty while Eurotunnel wrestled to reduce crippling interest payments negotiated during the tunnel's construction.\n",
      "7. Eurotunnel, which has taken around half the cross-Channel market from the European ferry companies, said a strong operating performance could allow it to pay its first dividend within the next 10 years.\n",
      "8. French co-chairman Patrick Ponsolle said shareholders would have to be patient before they could reap the benefits of the company's success.\n",
      "9. He called the debt restructuring plan \"an acceptable compromise\" for holders of Eurotunnel shares.\n",
      "10. The company said there was still considerable work to be done to finalise and agree on the details of the plan before it can be submitted to shareholders and the full 225 bank syndicate for approval, probably early in 1997.\n",
      "11. Monday's announcement followed two weeks of highly secretive negotiations between Eurotunnel and its six leading banks.\n",
      "12. This was extended to the 24 \"instructing banks\" at a meeting late last week in London.\n",
      "13. Eurotunnel said the debt-for-equity swap would be at 130 pence, or 10.40 francs, per share.\n",
      "14. That is considerably below the level of around 160 pence widely reported before announcement of the deal, and will reduce outstanding debt of 8.7 billion pounds ($13.6 billion) by 1.0 billion ($1.56 billion).\n",
      "15. The company said a further 3.7 billion pounds ($5.8 billion) of debt would be converted into new financial instruments and existing shareholders would be able to participate in this issue.\n",
      "16. If they choose not to take up free warrants entitling them to subscribe to this, Eurotunnel said shareholders' interests may be reduced further to just over 39 percent of the company by the end of December 2003.\n",
      "17. Eurotunnel's shares, which were suspended last week at 113.5 pence ahead of Monday's announcement, should resume trading on Tuesday, the company said.\n"
     ]
    }
   ],
   "source": [
    "custom_sent_tokenizer = PunktSentenceTokenizer(text)\n",
    "sentences = custom_sent_tokenizer.tokenize(text)\n",
    "\n",
    "print(\"Sentences Detected\")\n",
    "for i, sent in enumerate(sentences, 1):\n",
    "    print(f\"{i}. {sent}\")"
   ]
  },
  {
   "cell_type": "markdown",
   "id": "418b54b2-1fd9-4975-aa05-a9b83a66de4b",
   "metadata": {},
   "source": [
    "### 2. Perform Part-of-Speech (POS) on each sentence"
   ]
  },
  {
   "cell_type": "code",
   "execution_count": 8,
   "id": "4e9d6f4b-5b2e-4a2b-b2e6-4d057c489c7a",
   "metadata": {},
   "outputs": [
    {
     "name": "stdout",
     "output_type": "stream",
     "text": [
      "[('Anglo-French', 'JJ'), ('Channel', 'NNP'), ('Tunnel', 'NNP'), ('operator', 'NN'), ('Eurotunnel', 'NNP'), ('Monday', 'NNP'), ('announced', 'VBD'), ('a', 'DT'), ('deal', 'NN'), ('giving', 'VBG'), ('its', 'PRP$'), ('creditor', 'NN'), ('banks', 'NNS'), ('45.5', 'CD'), ('percent', 'NN'), ('of', 'IN'), ('the', 'DT'), ('company', 'NN'), ('in', 'IN'), ('return', 'NN'), ('for', 'IN'), ('wiping', 'VBG'), ('out', 'RP'), ('one', 'CD'), ('billion', 'CD'), ('pounds', 'NNS'), ('(', '('), ('$', '$'), ('1.56', 'CD'), ('billion', 'CD'), (')', ')'), ('of', 'IN'), ('its', 'PRP$'), ('debt', 'NN'), ('.', '.')]\n",
      "[('The', 'DT'), ('long-awaited', 'JJ'), ('restructuring', 'NN'), ('brings', 'NNS'), ('to', 'TO'), ('an', 'DT'), ('end', 'JJ'), ('months', 'NNS'), ('of', 'IN'), ('wrangling', 'VBG'), ('between', 'IN'), ('Eurotunnel', 'NNP'), ('and', 'CC'), ('the', 'DT'), ('225', 'CD'), ('banks', 'NNS'), ('to', 'TO'), ('which', 'WDT'), ('it', 'PRP'), ('owes', 'VBZ'), ('nearly', 'RB'), ('nine', 'CD'), ('billion', 'CD'), ('pounds', 'NNS'), ('(', '('), ('$', '$'), ('14.1', 'CD'), ('billion', 'CD'), (')', ')'), ('.', '.')]\n",
      "[('The', 'DT'), ('deal', 'NN'), (',', ','), ('announced', 'VBD'), ('simultaneously', 'RB'), ('in', 'IN'), ('Paris', 'NNP'), ('and', 'CC'), ('London', 'NNP'), (',', ','), ('brings', 'VBZ'), ('the', 'DT'), ('company', 'NN'), ('back', 'RB'), ('from', 'IN'), ('the', 'DT'), ('brink', 'NN'), ('of', 'IN'), ('insolvency', 'NN'), ('but', 'CC'), ('leaves', 'VBZ'), ('shareholders', 'NNS'), ('owning', 'VBG'), ('only', 'RB'), ('54.5', 'CD'), ('percent', 'NN'), ('of', 'IN'), ('the', 'DT'), ('company', 'NN'), ('.', '.')]\n",
      "[('``', '``'), ('The', 'DT'), ('restructuring', 'NN'), ('plan', 'NN'), ('provides', 'VBZ'), ('Eurotunnel', 'NNP'), ('with', 'IN'), ('the', 'DT'), ('medium-term', 'JJ'), ('financial', 'JJ'), ('stability', 'NN'), ('to', 'TO'), ('allow', 'VB'), ('it', 'PRP'), ('to', 'TO'), ('consolidate', 'VB'), ('its', 'PRP$'), ('substantial', 'JJ'), ('commercial', 'JJ'), ('achievements', 'NNS'), ('to', 'TO'), ('date', 'NN'), ('and', 'CC'), ('to', 'TO'), ('develop', 'VB'), ('its', 'PRP$'), ('operations', 'NNS'), (',', ','), (\"''\", \"''\"), ('Eurotunnel', 'NNP'), ('co-chairman', 'JJ'), ('Alastair', 'NNP'), ('Morton', 'NNP'), ('said', 'VBD'), ('.', '.')]\n",
      "[('The', 'DT'), ('firm', 'NN'), ('was', 'VBD'), ('now', 'RB'), ('making', 'VBG'), ('a', 'DT'), ('profit', 'NN'), ('before', 'IN'), ('interest', 'NN'), (',', ','), ('he', 'PRP'), ('added', 'VBD'), ('.', '.')]\n",
      "[('Although', 'IN'), ('shareholders', 'NNS'), ('will', 'MD'), ('see', 'VB'), ('their', 'PRP$'), ('interests', 'NNS'), ('diluted', 'VBN'), (',', ','), ('they', 'PRP'), ('were', 'VBD'), ('offered', 'VBN'), ('the', 'DT'), ('prospect', 'NN'), ('of', 'IN'), ('a', 'DT'), ('brighter', 'NN'), ('future', 'NN'), ('after', 'IN'), ('months', 'NNS'), ('of', 'IN'), ('uncertainty', 'NN'), ('while', 'IN'), ('Eurotunnel', 'NNP'), ('wrestled', 'VBD'), ('to', 'TO'), ('reduce', 'VB'), ('crippling', 'VBG'), ('interest', 'NN'), ('payments', 'NNS'), ('negotiated', 'VBN'), ('during', 'IN'), ('the', 'DT'), ('tunnel', 'NN'), (\"'s\", 'POS'), ('construction', 'NN'), ('.', '.')]\n",
      "[('Eurotunnel', 'NNP'), (',', ','), ('which', 'WDT'), ('has', 'VBZ'), ('taken', 'VBN'), ('around', 'IN'), ('half', 'PDT'), ('the', 'DT'), ('cross-Channel', 'JJ'), ('market', 'NN'), ('from', 'IN'), ('the', 'DT'), ('European', 'NNP'), ('ferry', 'NN'), ('companies', 'NNS'), (',', ','), ('said', 'VBD'), ('a', 'DT'), ('strong', 'JJ'), ('operating', 'NN'), ('performance', 'NN'), ('could', 'MD'), ('allow', 'VB'), ('it', 'PRP'), ('to', 'TO'), ('pay', 'VB'), ('its', 'PRP$'), ('first', 'JJ'), ('dividend', 'NN'), ('within', 'IN'), ('the', 'DT'), ('next', 'JJ'), ('10', 'CD'), ('years', 'NNS'), ('.', '.')]\n",
      "[('French', 'JJ'), ('co-chairman', 'JJ'), ('Patrick', 'NNP'), ('Ponsolle', 'NNP'), ('said', 'VBD'), ('shareholders', 'NNS'), ('would', 'MD'), ('have', 'VB'), ('to', 'TO'), ('be', 'VB'), ('patient', 'JJ'), ('before', 'IN'), ('they', 'PRP'), ('could', 'MD'), ('reap', 'VB'), ('the', 'DT'), ('benefits', 'NNS'), ('of', 'IN'), ('the', 'DT'), ('company', 'NN'), (\"'s\", 'POS'), ('success', 'NN'), ('.', '.')]\n",
      "[('He', 'PRP'), ('called', 'VBD'), ('the', 'DT'), ('debt', 'NN'), ('restructuring', 'NN'), ('plan', 'NN'), ('``', '``'), ('an', 'DT'), ('acceptable', 'JJ'), ('compromise', 'NN'), (\"''\", \"''\"), ('for', 'IN'), ('holders', 'NNS'), ('of', 'IN'), ('Eurotunnel', 'NNP'), ('shares', 'NNS'), ('.', '.')]\n",
      "[('The', 'DT'), ('company', 'NN'), ('said', 'VBD'), ('there', 'EX'), ('was', 'VBD'), ('still', 'RB'), ('considerable', 'JJ'), ('work', 'NN'), ('to', 'TO'), ('be', 'VB'), ('done', 'VBN'), ('to', 'TO'), ('finalise', 'VB'), ('and', 'CC'), ('agree', 'VB'), ('on', 'IN'), ('the', 'DT'), ('details', 'NNS'), ('of', 'IN'), ('the', 'DT'), ('plan', 'NN'), ('before', 'IN'), ('it', 'PRP'), ('can', 'MD'), ('be', 'VB'), ('submitted', 'VBN'), ('to', 'TO'), ('shareholders', 'NNS'), ('and', 'CC'), ('the', 'DT'), ('full', 'JJ'), ('225', 'CD'), ('bank', 'NN'), ('syndicate', 'NN'), ('for', 'IN'), ('approval', 'NN'), (',', ','), ('probably', 'RB'), ('early', 'RB'), ('in', 'IN'), ('1997', 'CD'), ('.', '.')]\n",
      "[('Monday', 'NNP'), (\"'s\", 'POS'), ('announcement', 'NN'), ('followed', 'VBD'), ('two', 'CD'), ('weeks', 'NNS'), ('of', 'IN'), ('highly', 'RB'), ('secretive', 'JJ'), ('negotiations', 'NNS'), ('between', 'IN'), ('Eurotunnel', 'NNP'), ('and', 'CC'), ('its', 'PRP$'), ('six', 'CD'), ('leading', 'JJ'), ('banks', 'NNS'), ('.', '.')]\n",
      "[('This', 'DT'), ('was', 'VBD'), ('extended', 'VBN'), ('to', 'TO'), ('the', 'DT'), ('24', 'CD'), ('``', '``'), ('instructing', 'JJ'), ('banks', 'NNS'), (\"''\", \"''\"), ('at', 'IN'), ('a', 'DT'), ('meeting', 'NN'), ('late', 'JJ'), ('last', 'JJ'), ('week', 'NN'), ('in', 'IN'), ('London', 'NNP'), ('.', '.')]\n",
      "[('Eurotunnel', 'NNP'), ('said', 'VBD'), ('the', 'DT'), ('debt-for-equity', 'NN'), ('swap', 'NN'), ('would', 'MD'), ('be', 'VB'), ('at', 'IN'), ('130', 'CD'), ('pence', 'NN'), (',', ','), ('or', 'CC'), ('10.40', 'CD'), ('francs', 'NNS'), (',', ','), ('per', 'IN'), ('share', 'NN'), ('.', '.')]\n",
      "[('That', 'DT'), ('is', 'VBZ'), ('considerably', 'RB'), ('below', 'IN'), ('the', 'DT'), ('level', 'NN'), ('of', 'IN'), ('around', 'IN'), ('160', 'CD'), ('pence', 'NN'), ('widely', 'RB'), ('reported', 'VBD'), ('before', 'IN'), ('announcement', 'NN'), ('of', 'IN'), ('the', 'DT'), ('deal', 'NN'), (',', ','), ('and', 'CC'), ('will', 'MD'), ('reduce', 'VB'), ('outstanding', 'JJ'), ('debt', 'NN'), ('of', 'IN'), ('8.7', 'CD'), ('billion', 'CD'), ('pounds', 'NNS'), ('(', '('), ('$', '$'), ('13.6', 'CD'), ('billion', 'CD'), (')', ')'), ('by', 'IN'), ('1.0', 'CD'), ('billion', 'CD'), ('(', '('), ('$', '$'), ('1.56', 'CD'), ('billion', 'CD'), (')', ')'), ('.', '.')]\n",
      "[('The', 'DT'), ('company', 'NN'), ('said', 'VBD'), ('a', 'DT'), ('further', 'JJ'), ('3.7', 'CD'), ('billion', 'CD'), ('pounds', 'NNS'), ('(', '('), ('$', '$'), ('5.8', 'CD'), ('billion', 'CD'), (')', ')'), ('of', 'IN'), ('debt', 'NN'), ('would', 'MD'), ('be', 'VB'), ('converted', 'VBN'), ('into', 'IN'), ('new', 'JJ'), ('financial', 'JJ'), ('instruments', 'NNS'), ('and', 'CC'), ('existing', 'VBG'), ('shareholders', 'NNS'), ('would', 'MD'), ('be', 'VB'), ('able', 'JJ'), ('to', 'TO'), ('participate', 'VB'), ('in', 'IN'), ('this', 'DT'), ('issue', 'NN'), ('.', '.')]\n",
      "[('If', 'IN'), ('they', 'PRP'), ('choose', 'VBP'), ('not', 'RB'), ('to', 'TO'), ('take', 'VB'), ('up', 'RP'), ('free', 'JJ'), ('warrants', 'NNS'), ('entitling', 'VBG'), ('them', 'PRP'), ('to', 'TO'), ('subscribe', 'VB'), ('to', 'TO'), ('this', 'DT'), (',', ','), ('Eurotunnel', 'NNP'), ('said', 'VBD'), ('shareholders', 'NNS'), (\"'\", 'POS'), ('interests', 'NNS'), ('may', 'MD'), ('be', 'VB'), ('reduced', 'VBN'), ('further', 'JJ'), ('to', 'TO'), ('just', 'RB'), ('over', 'IN'), ('39', 'CD'), ('percent', 'NN'), ('of', 'IN'), ('the', 'DT'), ('company', 'NN'), ('by', 'IN'), ('the', 'DT'), ('end', 'NN'), ('of', 'IN'), ('December', 'NNP'), ('2003', 'CD'), ('.', '.')]\n",
      "[('Eurotunnel', 'NNP'), (\"'s\", 'POS'), ('shares', 'NNS'), (',', ','), ('which', 'WDT'), ('were', 'VBD'), ('suspended', 'VBN'), ('last', 'JJ'), ('week', 'NN'), ('at', 'IN'), ('113.5', 'CD'), ('pence', 'NN'), ('ahead', 'RB'), ('of', 'IN'), ('Monday', 'NNP'), (\"'s\", 'POS'), ('announcement', 'NN'), (',', ','), ('should', 'MD'), ('resume', 'VB'), ('trading', 'VBG'), ('on', 'IN'), ('Tuesday', 'NNP'), (',', ','), ('the', 'DT'), ('company', 'NN'), ('said', 'VBD'), ('.', '.')]\n"
     ]
    }
   ],
   "source": [
    "custom_sent_tokenizer = PunktSentenceTokenizer(text)\n",
    "tokenized = custom_sent_tokenizer.tokenize(text)\n",
    "\n",
    "def process_content():\n",
    "    try:\n",
    "        for i in tokenized:\n",
    "            words = nltk.word_tokenize(i)\n",
    "            tagged = nltk.pos_tag(words)\n",
    "            print(tagged)\n",
    "    except Exception as e:\n",
    "        print(str(e))\n",
    "\n",
    "process_content()"
   ]
  },
  {
   "cell_type": "markdown",
   "id": "ab4977f3-2d23-4ee5-aa97-aefec4b38ecb",
   "metadata": {},
   "source": [
    "### 3. Find name entities including person’s name entities and locations"
   ]
  },
  {
   "cell_type": "code",
   "execution_count": 10,
   "id": "e49e5d73-d813-4a0b-be8a-e70a555060cc",
   "metadata": {},
   "outputs": [
    {
     "name": "stderr",
     "output_type": "stream",
     "text": [
      "[nltk_data] Downloading package maxent_ne_chunker to\n",
      "[nltk_data]     /Users/anan/nltk_data...\n",
      "[nltk_data]   Package maxent_ne_chunker is already up-to-date!\n",
      "[nltk_data] Downloading package maxent_ne_chunker_tab to\n",
      "[nltk_data]     /Users/anan/nltk_data...\n",
      "[nltk_data]   Package maxent_ne_chunker_tab is already up-to-date!\n",
      "[nltk_data] Downloading package words to /Users/anan/nltk_data...\n",
      "[nltk_data]   Package words is already up-to-date!\n",
      "[nltk_data] Downloading package averaged_perceptron_tagger to\n",
      "[nltk_data]     /Users/anan/nltk_data...\n",
      "[nltk_data]   Package averaged_perceptron_tagger is already up-to-\n",
      "[nltk_data]       date!\n",
      "[nltk_data] Downloading package punkt to /Users/anan/nltk_data...\n",
      "[nltk_data]   Package punkt is already up-to-date!\n"
     ]
    },
    {
     "data": {
      "text/plain": [
       "True"
      ]
     },
     "execution_count": 10,
     "metadata": {},
     "output_type": "execute_result"
    }
   ],
   "source": [
    "import nltk\n",
    "nltk.download('maxent_ne_chunker')\n",
    "nltk.download('maxent_ne_chunker_tab')\n",
    "nltk.download('words')\n",
    "nltk.download('averaged_perceptron_tagger')\n",
    "nltk.download('punkt')"
   ]
  },
  {
   "cell_type": "code",
   "execution_count": 11,
   "id": "76f42e51-9d23-44d5-a73d-127bfbad6a3a",
   "metadata": {},
   "outputs": [
    {
     "name": "stdout",
     "output_type": "stream",
     "text": [
      "Extracted Named Entities:\n",
      "GPE: Paris\n",
      "GPE: London\n",
      "PERSON: Alastair Morton\n",
      "PERSON: Eurotunnel\n",
      "GPE: Eurotunnel\n",
      "GPE: European\n",
      "GPE: French\n",
      "PERSON: Patrick Ponsolle\n",
      "GPE: Eurotunnel\n",
      "GPE: London\n",
      "PERSON: Eurotunnel\n",
      "PERSON: Eurotunnel\n",
      "GPE: Eurotunnel\n"
     ]
    }
   ],
   "source": [
    "custom_sent_tokenizer = PunktSentenceTokenizer(text)\n",
    "tokenized = custom_sent_tokenizer.tokenize(text)\n",
    "\n",
    "def extract_person_and_locations():\n",
    "    entities = []\n",
    "    for i in tokenized:\n",
    "        words = nltk.word_tokenize(i)\n",
    "        tagged = nltk.pos_tag(words)\n",
    "        tree = nltk.ne_chunk(tagged, binary=False)\n",
    "        for subtree in tree.subtrees():\n",
    "            if subtree.label() in [\"PERSON\", \"GPE\"]:   \n",
    "                entity = \" \".join([token for token, pos in subtree.leaves()])\n",
    "                entities.append((subtree.label(), entity))\n",
    "    return entities\n",
    "\n",
    "results = extract_person_and_locations()\n",
    "\n",
    "print(\"Extracted Named Entities:\")\n",
    "for label, entity in results:\n",
    "    print(f\"{label}: {entity}\")"
   ]
  }
 ],
 "metadata": {
  "kernelspec": {
   "display_name": "Python 3 (ipykernel)",
   "language": "python",
   "name": "python3"
  },
  "language_info": {
   "codemirror_mode": {
    "name": "ipython",
    "version": 3
   },
   "file_extension": ".py",
   "mimetype": "text/x-python",
   "name": "python",
   "nbconvert_exporter": "python",
   "pygments_lexer": "ipython3",
   "version": "3.8.20"
  }
 },
 "nbformat": 4,
 "nbformat_minor": 5
}
